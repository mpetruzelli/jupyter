{
 "cells": [
  {
   "cell_type": "markdown",
   "metadata": {},
   "source": [
    "# Can Sum\n",
    "\n",
    "Write a function `canSum(targetSum, numbers)` that takes in a targetSum and an array of numbers as arguments. \n",
    "\n",
    "The function should return a boolean indicating whether or not it is possible to generate the targetSum using the numbers from the array. \n",
    "\n",
    "You may use an element of the array as many times as needed. \n",
    "\n",
    "You may assume that all input numbers are nonnegative\n",
    "\n",
    "Solution with cache:\n",
    "\n",
    "* Time Complexity: O(targetSum * len(numbers))\n",
    "* Space Complexity: O(targetSum)"
   ]
  },
  {
   "cell_type": "code",
   "execution_count": 17,
   "metadata": {},
   "outputs": [],
   "source": [
    "def canSum(targetSum: int, numbers: list, cache = None) -> bool:\n",
    "    if cache is None:\n",
    "        cache = {}\n",
    "    if cache.get(targetSum) != None:\n",
    "        return cache.get(targetSum)\n",
    "    if targetSum == 0: return True\n",
    "    if targetSum < 0: return False\n",
    "    for num in numbers:\n",
    "        rem = targetSum - num\n",
    "        if canSum(rem,numbers, cache):\n",
    "            cache[targetSum] = True\n",
    "            return True\n",
    "    cache[targetSum] = False\n",
    "    return False\n",
    "    \n"
   ]
  },
  {
   "cell_type": "code",
   "execution_count": 18,
   "metadata": {},
   "outputs": [
    {
     "name": "stdout",
     "output_type": "stream",
     "text": [
      "{1: False}\n",
      "True\n",
      "{2: False}\n",
      "{2: False, 1: False}\n",
      "True\n",
      "{1: False}\n",
      "{1: False, 3: False}\n",
      "{1: False, 3: False, 5: False}\n",
      "{1: False, 3: False, 5: False, 7: False}\n",
      "False\n",
      "True\n",
      "{6: False}\n",
      "{6: False, 13: False}\n",
      "{6: False, 13: False, 20: False}\n",
      "{6: False, 13: False, 20: False, 27: False}\n",
      "{6: False, 13: False, 20: False, 27: False, 34: False}\n",
      "{6: False, 13: False, 20: False, 27: False, 34: False, 41: False}\n",
      "{6: False, 13: False, 20: False, 27: False, 34: False, 41: False, 48: False}\n",
      "{6: False, 13: False, 20: False, 27: False, 34: False, 41: False, 48: False, 55: False}\n",
      "{6: False, 13: False, 20: False, 27: False, 34: False, 41: False, 48: False, 55: False, 62: False}\n",
      "{6: False, 13: False, 20: False, 27: False, 34: False, 41: False, 48: False, 55: False, 62: False, 69: False}\n",
      "{6: False, 13: False, 20: False, 27: False, 34: False, 41: False, 48: False, 55: False, 62: False, 69: False, 76: False}\n",
      "{6: False, 13: False, 20: False, 27: False, 34: False, 41: False, 48: False, 55: False, 62: False, 69: False, 76: False, 83: False}\n",
      "{6: False, 13: False, 20: False, 27: False, 34: False, 41: False, 48: False, 55: False, 62: False, 69: False, 76: False, 83: False, 90: False}\n",
      "{6: False, 13: False, 20: False, 27: False, 34: False, 41: False, 48: False, 55: False, 62: False, 69: False, 76: False, 83: False, 90: False, 97: False}\n",
      "{6: False, 13: False, 20: False, 27: False, 34: False, 41: False, 48: False, 55: False, 62: False, 69: False, 76: False, 83: False, 90: False, 97: False, 104: False}\n",
      "{6: False, 13: False, 20: False, 27: False, 34: False, 41: False, 48: False, 55: False, 62: False, 69: False, 76: False, 83: False, 90: False, 97: False, 104: False, 111: False}\n",
      "{6: False, 13: False, 20: False, 27: False, 34: False, 41: False, 48: False, 55: False, 62: False, 69: False, 76: False, 83: False, 90: False, 97: False, 104: False, 111: False, 118: False}\n",
      "{6: False, 13: False, 20: False, 27: False, 34: False, 41: False, 48: False, 55: False, 62: False, 69: False, 76: False, 83: False, 90: False, 97: False, 104: False, 111: False, 118: False, 125: False}\n",
      "{6: False, 13: False, 20: False, 27: False, 34: False, 41: False, 48: False, 55: False, 62: False, 69: False, 76: False, 83: False, 90: False, 97: False, 104: False, 111: False, 118: False, 125: False, 132: False}\n",
      "{6: False, 13: False, 20: False, 27: False, 34: False, 41: False, 48: False, 55: False, 62: False, 69: False, 76: False, 83: False, 90: False, 97: False, 104: False, 111: False, 118: False, 125: False, 132: False, 139: False}\n",
      "{6: False, 13: False, 20: False, 27: False, 34: False, 41: False, 48: False, 55: False, 62: False, 69: False, 76: False, 83: False, 90: False, 97: False, 104: False, 111: False, 118: False, 125: False, 132: False, 139: False, 146: False}\n",
      "{6: False, 13: False, 20: False, 27: False, 34: False, 41: False, 48: False, 55: False, 62: False, 69: False, 76: False, 83: False, 90: False, 97: False, 104: False, 111: False, 118: False, 125: False, 132: False, 139: False, 146: False, 153: False}\n",
      "{6: False, 13: False, 20: False, 27: False, 34: False, 41: False, 48: False, 55: False, 62: False, 69: False, 76: False, 83: False, 90: False, 97: False, 104: False, 111: False, 118: False, 125: False, 132: False, 139: False, 146: False, 153: False, 160: False}\n",
      "{6: False, 13: False, 20: False, 27: False, 34: False, 41: False, 48: False, 55: False, 62: False, 69: False, 76: False, 83: False, 90: False, 97: False, 104: False, 111: False, 118: False, 125: False, 132: False, 139: False, 146: False, 153: False, 160: False, 167: False}\n",
      "{6: False, 13: False, 20: False, 27: False, 34: False, 41: False, 48: False, 55: False, 62: False, 69: False, 76: False, 83: False, 90: False, 97: False, 104: False, 111: False, 118: False, 125: False, 132: False, 139: False, 146: False, 153: False, 160: False, 167: False, 174: False}\n",
      "{6: False, 13: False, 20: False, 27: False, 34: False, 41: False, 48: False, 55: False, 62: False, 69: False, 76: False, 83: False, 90: False, 97: False, 104: False, 111: False, 118: False, 125: False, 132: False, 139: False, 146: False, 153: False, 160: False, 167: False, 174: False, 181: False}\n",
      "{6: False, 13: False, 20: False, 27: False, 34: False, 41: False, 48: False, 55: False, 62: False, 69: False, 76: False, 83: False, 90: False, 97: False, 104: False, 111: False, 118: False, 125: False, 132: False, 139: False, 146: False, 153: False, 160: False, 167: False, 174: False, 181: False, 188: False}\n",
      "{6: False, 13: False, 20: False, 27: False, 34: False, 41: False, 48: False, 55: False, 62: False, 69: False, 76: False, 83: False, 90: False, 97: False, 104: False, 111: False, 118: False, 125: False, 132: False, 139: False, 146: False, 153: False, 160: False, 167: False, 174: False, 181: False, 188: False, 195: False}\n",
      "{6: False, 13: False, 20: False, 27: False, 34: False, 41: False, 48: False, 55: False, 62: False, 69: False, 76: False, 83: False, 90: False, 97: False, 104: False, 111: False, 118: False, 125: False, 132: False, 139: False, 146: False, 153: False, 160: False, 167: False, 174: False, 181: False, 188: False, 195: False, 202: False}\n",
      "{6: False, 13: False, 20: False, 27: False, 34: False, 41: False, 48: False, 55: False, 62: False, 69: False, 76: False, 83: False, 90: False, 97: False, 104: False, 111: False, 118: False, 125: False, 132: False, 139: False, 146: False, 153: False, 160: False, 167: False, 174: False, 181: False, 188: False, 195: False, 202: False, 209: False}\n",
      "{6: False, 13: False, 20: False, 27: False, 34: False, 41: False, 48: False, 55: False, 62: False, 69: False, 76: False, 83: False, 90: False, 97: False, 104: False, 111: False, 118: False, 125: False, 132: False, 139: False, 146: False, 153: False, 160: False, 167: False, 174: False, 181: False, 188: False, 195: False, 202: False, 209: False, 216: False}\n",
      "{6: False, 13: False, 20: False, 27: False, 34: False, 41: False, 48: False, 55: False, 62: False, 69: False, 76: False, 83: False, 90: False, 97: False, 104: False, 111: False, 118: False, 125: False, 132: False, 139: False, 146: False, 153: False, 160: False, 167: False, 174: False, 181: False, 188: False, 195: False, 202: False, 209: False, 216: False, 223: False}\n",
      "{6: False, 13: False, 20: False, 27: False, 34: False, 41: False, 48: False, 55: False, 62: False, 69: False, 76: False, 83: False, 90: False, 97: False, 104: False, 111: False, 118: False, 125: False, 132: False, 139: False, 146: False, 153: False, 160: False, 167: False, 174: False, 181: False, 188: False, 195: False, 202: False, 209: False, 216: False, 223: False, 230: False}\n",
      "{6: False, 13: False, 20: False, 27: False, 34: False, 41: False, 48: False, 55: False, 62: False, 69: False, 76: False, 83: False, 90: False, 97: False, 104: False, 111: False, 118: False, 125: False, 132: False, 139: False, 146: False, 153: False, 160: False, 167: False, 174: False, 181: False, 188: False, 195: False, 202: False, 209: False, 216: False, 223: False, 230: False, 237: False}\n",
      "{6: False, 13: False, 20: False, 27: False, 34: False, 41: False, 48: False, 55: False, 62: False, 69: False, 76: False, 83: False, 90: False, 97: False, 104: False, 111: False, 118: False, 125: False, 132: False, 139: False, 146: False, 153: False, 160: False, 167: False, 174: False, 181: False, 188: False, 195: False, 202: False, 209: False, 216: False, 223: False, 230: False, 237: False, 244: False}\n",
      "{6: False, 13: False, 20: False, 27: False, 34: False, 41: False, 48: False, 55: False, 62: False, 69: False, 76: False, 83: False, 90: False, 97: False, 104: False, 111: False, 118: False, 125: False, 132: False, 139: False, 146: False, 153: False, 160: False, 167: False, 174: False, 181: False, 188: False, 195: False, 202: False, 209: False, 216: False, 223: False, 230: False, 237: False, 244: False, 251: False}\n",
      "{6: False, 13: False, 20: False, 27: False, 34: False, 41: False, 48: False, 55: False, 62: False, 69: False, 76: False, 83: False, 90: False, 97: False, 104: False, 111: False, 118: False, 125: False, 132: False, 139: False, 146: False, 153: False, 160: False, 167: False, 174: False, 181: False, 188: False, 195: False, 202: False, 209: False, 216: False, 223: False, 230: False, 237: False, 244: False, 251: False, 258: False}\n",
      "{6: False, 13: False, 20: False, 27: False, 34: False, 41: False, 48: False, 55: False, 62: False, 69: False, 76: False, 83: False, 90: False, 97: False, 104: False, 111: False, 118: False, 125: False, 132: False, 139: False, 146: False, 153: False, 160: False, 167: False, 174: False, 181: False, 188: False, 195: False, 202: False, 209: False, 216: False, 223: False, 230: False, 237: False, 244: False, 251: False, 258: False, 265: False}\n",
      "{6: False, 13: False, 20: False, 27: False, 34: False, 41: False, 48: False, 55: False, 62: False, 69: False, 76: False, 83: False, 90: False, 97: False, 104: False, 111: False, 118: False, 125: False, 132: False, 139: False, 146: False, 153: False, 160: False, 167: False, 174: False, 181: False, 188: False, 195: False, 202: False, 209: False, 216: False, 223: False, 230: False, 237: False, 244: False, 251: False, 258: False, 265: False, 272: False}\n",
      "{6: False, 13: False, 20: False, 27: False, 34: False, 41: False, 48: False, 55: False, 62: False, 69: False, 76: False, 83: False, 90: False, 97: False, 104: False, 111: False, 118: False, 125: False, 132: False, 139: False, 146: False, 153: False, 160: False, 167: False, 174: False, 181: False, 188: False, 195: False, 202: False, 209: False, 216: False, 223: False, 230: False, 237: False, 244: False, 251: False, 258: False, 265: False, 272: False, 279: False}\n",
      "{6: False, 13: False, 20: False, 27: False, 34: False, 41: False, 48: False, 55: False, 62: False, 69: False, 76: False, 83: False, 90: False, 97: False, 104: False, 111: False, 118: False, 125: False, 132: False, 139: False, 146: False, 153: False, 160: False, 167: False, 174: False, 181: False, 188: False, 195: False, 202: False, 209: False, 216: False, 223: False, 230: False, 237: False, 244: False, 251: False, 258: False, 265: False, 272: False, 279: False, 286: False}\n",
      "{6: False, 13: False, 20: False, 27: False, 34: False, 41: False, 48: False, 55: False, 62: False, 69: False, 76: False, 83: False, 90: False, 97: False, 104: False, 111: False, 118: False, 125: False, 132: False, 139: False, 146: False, 153: False, 160: False, 167: False, 174: False, 181: False, 188: False, 195: False, 202: False, 209: False, 216: False, 223: False, 230: False, 237: False, 244: False, 251: False, 258: False, 265: False, 272: False, 279: False, 286: False, 293: False}\n",
      "{6: False, 13: False, 20: False, 27: False, 34: False, 41: False, 48: False, 55: False, 62: False, 69: False, 76: False, 83: False, 90: False, 97: False, 104: False, 111: False, 118: False, 125: False, 132: False, 139: False, 146: False, 153: False, 160: False, 167: False, 174: False, 181: False, 188: False, 195: False, 202: False, 209: False, 216: False, 223: False, 230: False, 237: False, 244: False, 251: False, 258: False, 265: False, 272: False, 279: False, 286: False, 293: False, 300: False}\n",
      "False\n"
     ]
    }
   ],
   "source": [
    "test_cases = [\n",
    "    [7,[2,3]],\n",
    "    [7,[5,3,4,7]],\n",
    "    [7,[2,4]],\n",
    "    [8,[2,3,5]],\n",
    "    [300,[7,14]]\n",
    "]\n",
    "\n",
    "expects = [True,True,False,True,False]\n",
    "\n",
    "for i in range(len(test_cases)):\n",
    "    answer = canSum(test_cases[i][0], test_cases[i][1])\n",
    "    assert answer == expects[i], \"Input {}, expected {}, but got {}\".format(test_cases[i], expects[i], answer)\n",
    "    print(answer)"
   ]
  },
  {
   "cell_type": "code",
   "execution_count": null,
   "metadata": {},
   "outputs": [],
   "source": []
  },
  {
   "cell_type": "code",
   "execution_count": null,
   "metadata": {},
   "outputs": [],
   "source": []
  }
 ],
 "metadata": {
  "kernelspec": {
   "display_name": "Python 3",
   "language": "python",
   "name": "python3"
  },
  "language_info": {
   "codemirror_mode": {
    "name": "ipython",
    "version": 3
   },
   "file_extension": ".py",
   "mimetype": "text/x-python",
   "name": "python",
   "nbconvert_exporter": "python",
   "pygments_lexer": "ipython3",
   "version": "3.9.0"
  }
 },
 "nbformat": 4,
 "nbformat_minor": 4
}
