{
 "cells": [
  {
   "cell_type": "markdown",
   "metadata": {},
   "source": [
    "# Two Sums\n",
    "\n",
    "Find two numbers in a sorted array that sums to a given target"
   ]
  },
  {
   "cell_type": "code",
   "execution_count": 13,
   "metadata": {},
   "outputs": [],
   "source": [
    "def two_sums(arr: list, target: int) -> list:\n",
    "    l_p = 0\n",
    "    r_p = len(arr) - 1\n",
    "    while l_p < r_p:\n",
    "        out = arr[l_p] + arr[r_p]\n",
    "        if out < target:\n",
    "            l_p += 1  \n",
    "        elif out > target:\n",
    "            r_p -=1\n",
    "        else:\n",
    "            return [l_p, r_p]\n",
    "    return [None, None]\n",
    "    \n",
    "    "
   ]
  },
  {
   "cell_type": "code",
   "execution_count": 18,
   "metadata": {},
   "outputs": [
    {
     "name": "stdout",
     "output_type": "stream",
     "text": [
      "[0, 1]\n",
      "[0, 2]\n",
      "[None, None]\n"
     ]
    }
   ],
   "source": [
    "test_cases = [\n",
    "    [9,[2,7,11,15]],\n",
    "    [6,[2,3,4]],\n",
    "    [100,[1,3,5,7]]\n",
    "]\n",
    "\n",
    "expects = [\n",
    "    [0,1],\n",
    "    [0,2],\n",
    "    [None,None]\n",
    "]\n",
    "for i in range(len(test_cases)):\n",
    "    out = two_sums(test_cases[i][1], test_cases[i][0])\n",
    "    assert out == expects[i], \"Expected {}, got {}\".format(expects, out)\n",
    "    print(out)"
   ]
  },
  {
   "cell_type": "markdown",
   "metadata": {},
   "source": [
    "# Three Sums\n",
    "\n",
    "Find three numbers in a sorted array that sums to a given target"
   ]
  },
  {
   "cell_type": "code",
   "execution_count": 23,
   "metadata": {},
   "outputs": [],
   "source": [
    "def three_sums(arr: list, target: int) -> list:\n",
    "    l_p = 1\n",
    "    r_p = len(arr) - 1\n",
    "    \n",
    "    for num in arr:\n",
    "        while l_p < r_p:\n",
    "            out = num + arr[l_p] + arr[r_p]\n",
    "            \n",
    "            if out < target:\n",
    "                l_p += 1\n",
    "            elif out > target:\n",
    "                r_p -= 1\n",
    "            else:\n",
    "                return [arr.index(num),l_p, r_p]\n",
    "    return [None, None, None]\n",
    "    \n"
   ]
  },
  {
   "cell_type": "code",
   "execution_count": 28,
   "metadata": {},
   "outputs": [
    {
     "data": {
      "text/plain": [
       "[0, 3, 4]"
      ]
     },
     "execution_count": 28,
     "metadata": {},
     "output_type": "execute_result"
    }
   ],
   "source": [
    "three_sums([-1,1,3,4,5, 9], 8)"
   ]
  },
  {
   "cell_type": "markdown",
   "metadata": {},
   "source": [
    "# Squares\n",
    "\n",
    "Square each value in the array and return the output in sorted order."
   ]
  },
  {
   "cell_type": "code",
   "execution_count": 42,
   "metadata": {},
   "outputs": [],
   "source": [
    "def square_array(arr: list) -> list:\n",
    "    r_p = 0\n",
    "    \n",
    "    while r_p < len(arr) and arr[r_p] < 0:\n",
    "        r_p += 1\n",
    "    l_p = r_p - 1\n",
    "    out =[]\n",
    "    while l_p >= 0  and r_p < len(arr):\n",
    "        left = arr[l_p] ** 2\n",
    "        right = arr[r_p] ** 2\n",
    "        if arr[l_p] ** 2 < right:\n",
    "            out.append(left)\n",
    "            l_p -= 1\n",
    "        else:\n",
    "            out.append(right)\n",
    "            r_p += 1\n",
    "    while l_p >= 0:\n",
    "        left = arr[l_p] ** 2\n",
    "        out.append(left)\n",
    "        l_p -= 1\n",
    "    while r_p < len(arr):\n",
    "        right = arr[r_p] ** 2\n",
    "        out.append(right)\n",
    "        r_p += 1\n",
    "    return out\n",
    "    "
   ]
  },
  {
   "cell_type": "code",
   "execution_count": 43,
   "metadata": {},
   "outputs": [
    {
     "name": "stdout",
     "output_type": "stream",
     "text": [
      "[1, 4, 4, 9]\n",
      "[4, 9]\n",
      "[1, 4, 9]\n"
     ]
    }
   ],
   "source": [
    "test_cases = [\n",
    "    [-2,-1,2,3],\n",
    "    [-3, -2],\n",
    "    [1,2,3]\n",
    "]\n",
    "\n",
    "expects = [\n",
    "    [1,4,4,9],\n",
    "    [4,9],\n",
    "    [1,4,9]\n",
    "]\n",
    "\n",
    "for i in range(len(test_cases)):\n",
    "    out = square_array(test_cases[i])\n",
    "    assert out == expects[i], \"Expected {}, got {}\".format(expects[i], out)\n",
    "    print(out)"
   ]
  },
  {
   "cell_type": "markdown",
   "metadata": {},
   "source": [
    "# Largest 3-member Sum\n",
    "\n",
    "Find the largest number that can be made from 3 neighbors within the array"
   ]
  },
  {
   "cell_type": "code",
   "execution_count": 49,
   "metadata": {},
   "outputs": [],
   "source": [
    "def neighbor_sum(arr: list, k=3) -> list:\n",
    "    start = 0\n",
    "    curr_sum = 0\n",
    "    max_sum = float('-inf')\n",
    "    \n",
    "    for end, val in enumerate(arr):\n",
    "        curr_sum += val\n",
    "        if end - start + 1  == k:\n",
    "            max_sum = max(max_sum, curr_sum)\n",
    "            curr_sum -= arr[start]\n",
    "            start += 1\n",
    "    return max_sum"
   ]
  },
  {
   "cell_type": "code",
   "execution_count": 51,
   "metadata": {},
   "outputs": [
    {
     "name": "stdout",
     "output_type": "stream",
     "text": [
      "10\n"
     ]
    }
   ],
   "source": [
    "test_case = [2,3,4,1,5]\n",
    "expects = 10\n",
    "\n",
    "out = neighbor_sum(test_case)\n",
    "assert out == expects, \"Expected {}, got {}\".format(expects, out)\n",
    "print(out)"
   ]
  },
  {
   "cell_type": "markdown",
   "metadata": {},
   "source": [
    "# Sum of subarray equal to target\n",
    "\n",
    "Find the size of the smallest contiguous subarray with a sum >= S\n"
   ]
  },
  {
   "cell_type": "code",
   "execution_count": 64,
   "metadata": {},
   "outputs": [],
   "source": [
    "def smallest_sub(target: int, arr: list) -> int:\n",
    "    start = 0\n",
    "    curr_sum = 0\n",
    "    min_size = float('inf')\n",
    "    \n",
    "    for end, val in enumerate(arr):\n",
    "        curr_sum += val\n",
    "        \n",
    "        while curr_sum >= target:\n",
    "            min_size = min(min_size, end - start + 1)\n",
    "            curr_sum -= arr[start]\n",
    "            start += 1\n",
    "    return min_size\n",
    "            \n",
    "        "
   ]
  },
  {
   "cell_type": "code",
   "execution_count": 65,
   "metadata": {},
   "outputs": [
    {
     "name": "stdout",
     "output_type": "stream",
     "text": [
      "2\n"
     ]
    }
   ],
   "source": [
    "test_case = [7,[2,4,2,5,1]]\n",
    "expects = 2\n",
    "\n",
    "out = smallest_sub(test_case[0], test_case[1])\n",
    "assert out == expects, \"Expected {}, got {}\".format(expects, out)\n",
    "print(out)"
   ]
  },
  {
   "cell_type": "markdown",
   "metadata": {},
   "source": [
    "# Two sum single pass"
   ]
  },
  {
   "cell_type": "code",
   "execution_count": 69,
   "metadata": {},
   "outputs": [],
   "source": [
    "def twoSum(nums: list[int], target: int) -> list[int]:\n",
    "        cache = {}\n",
    "        \n",
    "        for idx, num in enumerate(nums):\n",
    "            out = target - num\n",
    "            \n",
    "            if out not in cache:\n",
    "                cache[num] = idx\n",
    "            else:\n",
    "                return [cache[out], idx]"
   ]
  },
  {
   "cell_type": "code",
   "execution_count": 74,
   "metadata": {},
   "outputs": [
    {
     "name": "stdout",
     "output_type": "stream",
     "text": [
      "[0, 1]\n",
      "[1, 2]\n"
     ]
    }
   ],
   "source": [
    "test_case = [\n",
    "    [9,[2,7,11,15]],\n",
    "    [6,[3,2,4]]\n",
    "]\n",
    "expects = [\n",
    "    [0,1],\n",
    "    [1,2]\n",
    "]\n",
    "\n",
    "for i in range(len(test_case)):\n",
    "    out = twoSum(test_case[i][1], test_case[i][0])\n",
    "    assert out == expects[i], \"Expected {}, got {}\".format(expects[i], out)\n",
    "    print(out)"
   ]
  }
 ],
 "metadata": {
  "kernelspec": {
   "display_name": "Python 3",
   "language": "python",
   "name": "python3"
  },
  "language_info": {
   "codemirror_mode": {
    "name": "ipython",
    "version": 3
   },
   "file_extension": ".py",
   "mimetype": "text/x-python",
   "name": "python",
   "nbconvert_exporter": "python",
   "pygments_lexer": "ipython3",
   "version": "3.9.0"
  }
 },
 "nbformat": 4,
 "nbformat_minor": 4
}
