{
 "cells": [
  {
   "cell_type": "code",
   "execution_count": 34,
   "metadata": {},
   "outputs": [],
   "source": [
    "array1 = [1,1,3,5,7,7,8,9]\n",
    "array2 = [2,2,4,6,10,12,16,20]"
   ]
  },
  {
   "cell_type": "code",
   "execution_count": 55,
   "metadata": {},
   "outputs": [],
   "source": [
    "def sort_list(array1, array2):\n",
    "    l1 = l2 = r = 0\n",
    "    ret = [0]* (len(array1) + len(array2))\n",
    "    \n",
    "    while (l1 < len(array1) and l2 < len(array2)):\n",
    "        if array1[l1] < array2[l2]:\n",
    "            ret[r] = array1[l1]\n",
    "            l1 += 1\n",
    "        else:\n",
    "            ret[r] = array2[l2]\n",
    "            l2 += 1\n",
    "        r += 1\n",
    "    \n",
    "#     while l1 < len(array1):\n",
    "#         ret[r] = array1[l1]\n",
    "#         r += 1\n",
    "#         l1 +=1\n",
    "        \n",
    "#     while l2 < len(array2):\n",
    "#         ret[r] = array2[l2]\n",
    "#         r += 1\n",
    "#         l2 += 1\n",
    "\n",
    "    if l1 < len(array1):\n",
    "        ret[l1+l2:] = array1[l1:]\n",
    "\n",
    "    if l2 < len(array2):\n",
    "        ret[l1+l2:] = array2[l2:]\n",
    "        \n",
    "    return ret"
   ]
  },
  {
   "cell_type": "code",
   "execution_count": 56,
   "metadata": {},
   "outputs": [
    {
     "name": "stdout",
     "output_type": "stream",
     "text": [
      "[1, 1, 3, 5, 7, 7, 8, 9]\n",
      "[1, 1, 2, 2, 3, 4, 5, 6, 7, 7, 8, 9, 10, 12, 16, 20]\n"
     ]
    }
   ],
   "source": [
    "print(sort_list(array1,array2))"
   ]
  },
  {
   "cell_type": "code",
   "execution_count": null,
   "metadata": {},
   "outputs": [],
   "source": []
  }
 ],
 "metadata": {
  "kernelspec": {
   "display_name": "Python 3",
   "language": "python",
   "name": "python3"
  },
  "language_info": {
   "codemirror_mode": {
    "name": "ipython",
    "version": 3
   },
   "file_extension": ".py",
   "mimetype": "text/x-python",
   "name": "python",
   "nbconvert_exporter": "python",
   "pygments_lexer": "ipython3",
   "version": "3.9.0"
  }
 },
 "nbformat": 4,
 "nbformat_minor": 4
}
