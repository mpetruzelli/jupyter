{
 "cells": [
  {
   "cell_type": "markdown",
   "metadata": {},
   "source": [
    "# Levenshtein distance\n",
    "\n",
    "Calulate the number of edits required to turn `word1` into `word2`\n"
   ]
  },
  {
   "cell_type": "markdown",
   "metadata": {},
   "source": [
    "Throughout the problem, `best[i][j]` represents the amount of operations needed to change `word1[0:i]` to `word2[0:j]`. \n",
    "\n",
    "First, the amount of operations needed when one of the words has length 0 is trivially calculated as the length of the non-zero-length word. \n",
    "\n",
    "For the rest, we simply check for the best out of the three operations. \n",
    "Insert and delete is the same as adding an operation to the minimum # of operations when removing the last letter of `word1` and `word2`, respectively. \n",
    "\n",
    "Replace is the same as adding an operation to the minimum # of operations when removing the last letter of both `word1` and `word2`. \n",
    "\n",
    "The final answer is equal to the best entry corresponding to the entirety of `word1` and `word2`."
   ]
  },
  {
   "cell_type": "code",
   "execution_count": 2,
   "metadata": {},
   "outputs": [],
   "source": [
    "def minDistance(word1, word2):\n",
    "        \"\"\"\n",
    "        :type word1: str\n",
    "        :type word2: str\n",
    "        :rtype: int\n",
    "        \"\"\"\n",
    "        best = [[None]*(len(word2)+1) for i in range(len(word1)+1)]\n",
    "        best[0][0] = 0\n",
    "        for i in range(len(word1)):\n",
    "            best[i+1][0] = i+1\n",
    "        for j in range(len(word2)):\n",
    "            best[0][j+1] = j+1\n",
    "\n",
    "        for i in range(len(word1)):\n",
    "            for j in range(len(word2)):\n",
    "                if word1[i] == word2[j]:\n",
    "                    best[i+1][j+1] = best[i][j]\n",
    "                else:\n",
    "                    best[i+1][j+1] = min(\n",
    "                        1 + best[i+1][j], # insert\n",
    "                        1 + best[i][j+1], # delete\n",
    "                        1 + best[i][j] # replace\n",
    "                    )\n",
    "        return best[len(word1)][len(word2)]"
   ]
  },
  {
   "cell_type": "code",
   "execution_count": 4,
   "metadata": {},
   "outputs": [],
   "source": [
    "test_case = [\"horse\", \"ros\"]\n",
    "expect = 3\n",
    "\n",
    "out = minDistance(test_case[0], test_case[1])\n",
    "assert out == expect, \"Expected {}, Got {}\".format(expect, out)\n",
    "print(out)"
   ]
  },
  {
   "cell_type": "code",
   "execution_count": null,
   "metadata": {},
   "outputs": [],
   "source": []
  }
 ],
 "metadata": {
  "kernelspec": {
   "display_name": "Python 3",
   "language": "python",
   "name": "python3"
  },
  "language_info": {
   "codemirror_mode": {
    "name": "ipython",
    "version": 3
   },
   "file_extension": ".py",
   "mimetype": "text/x-python",
   "name": "python",
   "nbconvert_exporter": "python",
   "pygments_lexer": "ipython3",
   "version": "3.9.0"
  }
 },
 "nbformat": 4,
 "nbformat_minor": 4
}
