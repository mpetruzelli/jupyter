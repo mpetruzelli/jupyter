{
 "cells": [
  {
   "cell_type": "code",
   "execution_count": 5,
   "metadata": {},
   "outputs": [
    {
     "name": "stdout",
     "output_type": "stream",
     "text": [
      "3\n",
      "2\n"
     ]
    }
   ],
   "source": [
    "INF = 100000\n",
    "\n",
    "#k is number of denominations of the coin or length of d\n",
    "def coin_change_modified(d, n, k):\n",
    "  M = [0]*(n+1)\n",
    "  S = [0]*(n+1)\n",
    "\n",
    "  for j in range(1, n+1):\n",
    "    minimum = INF\n",
    "    coin = 0\n",
    "\n",
    "    for i in range(1, k+1):\n",
    "      if(j >= d[i]):\n",
    "        minimum = min(minimum, 1+M[j-d[i]])\n",
    "        coin = i\n",
    "    M[j] = minimum\n",
    "    S[j] = coin\n",
    "\n",
    "  l = n\n",
    "  while(l>0):\n",
    "    print(d[S[l]])\n",
    "    l = l-d[S[l]]\n",
    "  return M[n]\n",
    "\n",
    "if __name__ == '__main__':\n",
    "  # array starting from 1, element at index 0 is fake\n",
    "  d = [0, 1, 2, 3]\n",
    "  coin_change_modified(d, 5, 3) #to make 5. Number of denominations = 3"
   ]
  },
  {
   "cell_type": "code",
   "execution_count": 8,
   "metadata": {},
   "outputs": [
    {
     "name": "stdout",
     "output_type": "stream",
     "text": [
      "Total number of ways to get desired change is 4\n"
     ]
    }
   ],
   "source": [
    "# Function to find the total number of distinct ways to get\n",
    "# change of N from unlimited supply of coins in set S\n",
    "def count(S, N):\n",
    " \n",
    "    T = [0] * (N + 1)\n",
    "    T[0] = 1\n",
    " \n",
    "    for i in range(len(S)):\n",
    "        j = S[i]\n",
    "        while j <= N:\n",
    "            T[j] += T[j - S[i]]\n",
    "            j = j + 1\n",
    " \n",
    "    return T[N]\n",
    " \n",
    "S = 1, 2, 3\n",
    "N = 4\n",
    "print(\"Total number of ways to get desired change is\", count(S, N))"
   ]
  },
  {
   "cell_type": "code",
   "execution_count": null,
   "metadata": {},
   "outputs": [],
   "source": []
  }
 ],
 "metadata": {
  "kernelspec": {
   "display_name": "Python 3",
   "language": "python",
   "name": "python3"
  },
  "language_info": {
   "codemirror_mode": {
    "name": "ipython",
    "version": 3
   },
   "file_extension": ".py",
   "mimetype": "text/x-python",
   "name": "python",
   "nbconvert_exporter": "python",
   "pygments_lexer": "ipython3",
   "version": "3.9.0"
  }
 },
 "nbformat": 4,
 "nbformat_minor": 4
}
