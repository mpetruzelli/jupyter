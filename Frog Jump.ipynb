{
 "cells": [
  {
   "cell_type": "code",
   "execution_count": null,
   "metadata": {},
   "outputs": [],
   "source": [
    "test1  = [10,85,30] # 3\n",
    "test2 = [50, 200, 13] # 12\n",
    "test3 = [100, 750, 29] # 23"
   ]
  },
  {
   "cell_type": "code",
   "execution_count": null,
   "metadata": {},
   "outputs": [],
   "source": [
    "def initialSolution(x: int, y: int, d: int) -> int:\n",
    "    return (y-x) // d if (y-x)%d ==0 else (y-x)//d+1"
   ]
  },
  {
   "cell_type": "code",
   "execution_count": null,
   "metadata": {},
   "outputs": [],
   "source": [
    "print(initialSolution(test1[0],test1[1],test1[2]))\n",
    "print(initialSolution(test2[0],test2[1],test2[2]))\n",
    "print(initialSolution(test3[0],test3[1],test3[2]))"
   ]
  }
 ],
 "metadata": {
  "kernelspec": {
   "display_name": "Python 3",
   "language": "python",
   "name": "python3"
  },
  "language_info": {
   "codemirror_mode": {
    "name": "ipython",
    "version": 3
   },
   "file_extension": ".py",
   "mimetype": "text/x-python",
   "name": "python",
   "nbconvert_exporter": "python",
   "pygments_lexer": "ipython3",
   "version": "3.9.0"
  }
 },
 "nbformat": 4,
 "nbformat_minor": 4
}
