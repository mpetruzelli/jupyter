{
 "cells": [
  {
   "cell_type": "markdown",
   "metadata": {},
   "source": [
    "# Grid Traveler\n",
    "\n",
    "With cache: \n",
    "\n",
    "* Time Complexity = O(m*n)\n",
    "* Space Complexity = O(m+n)"
   ]
  },
  {
   "cell_type": "code",
   "execution_count": 31,
   "metadata": {},
   "outputs": [],
   "source": [
    "def gridTraveler(m: int, n: int, cache = {\"0,0\": 0, \"1,1\": 1}) -> int:\n",
    "    s_m = str(m)\n",
    "    s_n = str(n)\n",
    "    k = \",\".join([s_m,s_n])\n",
    "    if m ==1 and n == 1:\n",
    "        return 1\n",
    "    if m ==0 or n == 0:\n",
    "        return 0\n",
    "    if cache.get(k) != None:\n",
    "        return cache.get(k)\n",
    "    cache[k] = gridTraveler(m - 1, n, cache) + gridTraveler(m, n-1, cache)\n",
    "    return cache[k]"
   ]
  },
  {
   "cell_type": "code",
   "execution_count": 30,
   "metadata": {},
   "outputs": [
    {
     "name": "stdout",
     "output_type": "stream",
     "text": [
      "1\n",
      "3\n",
      "3\n",
      "6\n",
      "2333606220\n"
     ]
    }
   ],
   "source": [
    "test_cases = [(1,1), (2,3), (3,2), (3,3), (18,18)]\n",
    "expects = [1,3,3,6,2333606220]\n",
    "for i in range(len(test_cases)):\n",
    "    answer = gridTraveler(test_cases[i][0], test_cases[i][1])\n",
    "    assert answer == expects[i], \"Input {}, Expected {}, but got {}\".format(test_cases[i],expects[i], answer)\n",
    "    print(answer)\n"
   ]
  }
 ],
 "metadata": {
  "kernelspec": {
   "display_name": "Python 3",
   "language": "python",
   "name": "python3"
  },
  "language_info": {
   "codemirror_mode": {
    "name": "ipython",
    "version": 3
   },
   "file_extension": ".py",
   "mimetype": "text/x-python",
   "name": "python",
   "nbconvert_exporter": "python",
   "pygments_lexer": "ipython3",
   "version": "3.9.0"
  }
 },
 "nbformat": 4,
 "nbformat_minor": 4
}
