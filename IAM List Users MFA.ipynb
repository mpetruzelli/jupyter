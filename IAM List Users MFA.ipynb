{
 "cells": [
  {
   "cell_type": "markdown",
   "metadata": {},
   "source": [
    "# IAM MFA USERS\n",
    "\n",
    "This notebook will show users who do/not have MFA enabled.\n",
    "\n",
    "It will also show users that are in the `MFARequired` Group, but have their MFA enabled (and should be removed from `MFARequired`).\n",
    "\n",
    "Finally it will remove those users from `MFARequired`"
   ]
  },
  {
   "cell_type": "code",
   "execution_count": null,
   "metadata": {},
   "outputs": [],
   "source": [
    "import sys\n",
    "!{sys.executable} -m pip install boto3\n",
    "import boto3"
   ]
  },
  {
   "cell_type": "code",
   "execution_count": null,
   "metadata": {},
   "outputs": [],
   "source": [
    "profile = {\"name\": \"ss-dev\", \"region\": \"us-east-1\"}\n",
    "boto3.setup_default_session(profile_name=profile[\"name\"], region_name=profile[\"region\"])\n",
    "client = boto3.client('iam')"
   ]
  },
  {
   "cell_type": "code",
   "execution_count": null,
   "metadata": {},
   "outputs": [],
   "source": [
    "def remove_bots(x):\n",
    "    name = x.get(\"UserName\")\n",
    "    bots= [\"circleci\", \"MissionOkta\", \"looker\", \"autoreport\"]\n",
    "    bad_chars = [\"-\"]\n",
    "    \n",
    "    if name not in bots and \".\" not in name:\n",
    "        if \"-\" not in name and \"_\" not in name:\n",
    "            return True\n",
    "    if \"@\" in name:\n",
    "        return True\n",
    "    return False\n",
    "\n",
    "users =list(filter(remove_bots, client.list_users()[\"Users\"]))\n",
    "usernames = [x.get(\"UserName\") for x in users]\n",
    "print(usernames)"
   ]
  },
  {
   "cell_type": "code",
   "execution_count": null,
   "metadata": {},
   "outputs": [],
   "source": [
    "# no_mfa = { name: False for name in usernames if len(client.list_mfa_devices(UserName=name)[\"MFADevices\"]) == 0 }\n",
    "mfa = { name: True if len(client.list_mfa_devices(UserName=name)[\"MFADevices\"]) > 0 else False for name in usernames }\n",
    "# print(no_mfa)\n",
    "print(mfa)"
   ]
  },
  {
   "cell_type": "code",
   "execution_count": null,
   "metadata": {},
   "outputs": [],
   "source": [
    "group_users_to_remove = []\n",
    "for key,value in mfa.items():\n",
    "    if value:\n",
    "        try:\n",
    "            for group in client.list_groups_for_user(UserName=key)[\"Groups\"]:\n",
    "                if group.get(\"GroupName\") == \"MFARequired\":\n",
    "                    group_users_to_remove.append(key)\n",
    "                    \n",
    "        except:\n",
    "            print(\"{} {}\".format(key, no_mfa[key]))\n",
    "\n",
    "# print(no_mfa)\n",
    "print(group_users_to_remove)"
   ]
  },
  {
   "cell_type": "code",
   "execution_count": null,
   "metadata": {},
   "outputs": [],
   "source": [
    "for user in group_users_to_remove:\n",
    "    user = client.remove_user_from_group(GroupName=\"MFARequired\", UserName=user)"
   ]
  }
 ],
 "metadata": {
  "kernelspec": {
   "display_name": "Python 3",
   "language": "python",
   "name": "python3"
  },
  "language_info": {
   "codemirror_mode": {
    "name": "ipython",
    "version": 3
   },
   "file_extension": ".py",
   "mimetype": "text/x-python",
   "name": "python",
   "nbconvert_exporter": "python",
   "pygments_lexer": "ipython3",
   "version": "3.9.0"
  }
 },
 "nbformat": 4,
 "nbformat_minor": 4
}
