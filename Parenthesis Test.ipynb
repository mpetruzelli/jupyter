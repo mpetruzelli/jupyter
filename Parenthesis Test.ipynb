{
 "cells": [
  {
   "cell_type": "code",
   "execution_count": 2,
   "metadata": {},
   "outputs": [],
   "source": [
    "test1 = \"(())\"\n",
    "test2 =  \"((())\"\n",
    "test3 = \"(((((())))\""
   ]
  },
  {
   "cell_type": "code",
   "execution_count": 10,
   "metadata": {},
   "outputs": [],
   "source": [
    "def test_parenthesis(this: str) -> bool:\n",
    "    return True if this.count(\"(\") == this.count(\")\") else False"
   ]
  },
  {
   "cell_type": "code",
   "execution_count": 14,
   "metadata": {},
   "outputs": [],
   "source": [
    "assert test_parenthesis(test1) == True, \"True\"\n",
    "assert test_parenthesis(test2) == False, \"False\"\n",
    "assert test_parenthesis(test3) == False, \"False\"\n"
   ]
  },
  {
   "cell_type": "code",
   "execution_count": 31,
   "metadata": {},
   "outputs": [],
   "source": [
    "def parenthesis(this: str) -> bool:\n",
    "    counts = {\n",
    "        \"(\": 0,\n",
    "        \")\": 0\n",
    "    }\n",
    "    \n",
    "    for i in this:\n",
    "        for key in counts.keys():\n",
    "            if i == key: counts[key] += 1\n",
    "    if counts[\")\"] == counts[\"(\"]: return True\n",
    "    else: return False"
   ]
  },
  {
   "cell_type": "code",
   "execution_count": 32,
   "metadata": {},
   "outputs": [],
   "source": [
    "assert parenthesis(test1) == True, \"True\"\n",
    "assert parenthesis(test2) == False, \"False\"\n",
    "assert parenthesis(test3) == False, \"False\""
   ]
  },
  {
   "cell_type": "code",
   "execution_count": null,
   "metadata": {},
   "outputs": [],
   "source": []
  }
 ],
 "metadata": {
  "kernelspec": {
   "display_name": "Python 3",
   "language": "python",
   "name": "python3"
  },
  "language_info": {
   "codemirror_mode": {
    "name": "ipython",
    "version": 3
   },
   "file_extension": ".py",
   "mimetype": "text/x-python",
   "name": "python",
   "nbconvert_exporter": "python",
   "pygments_lexer": "ipython3",
   "version": "3.9.0"
  }
 },
 "nbformat": 4,
 "nbformat_minor": 4
}
