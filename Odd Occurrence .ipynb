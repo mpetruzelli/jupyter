{
 "cells": [
  {
   "cell_type": "code",
   "execution_count": 1,
   "metadata": {},
   "outputs": [],
   "source": [
    "test1 = [9,3,9,9,7,9,3] # 7\n",
    "test2 = [1,3,1,3,5,7,9,7,9] # 5\n",
    "test3 = [7,9,7,9,11,17,11,17,7,9,7,9,3,11,17,11,17] # 3\n",
    "test4 = [7,9,7,9,11,17,11,9,9,3,11,11,17,3,19,23,27,27,23,19,19] # 19"
   ]
  },
  {
   "cell_type": "code",
   "execution_count": null,
   "metadata": {},
   "outputs": [],
   "source": [
    "def initialSolution(arr: list) -> int:\n",
    "    count = 0\n",
    "    cache = {}\n",
    "    if len(arr) == 1:\n",
    "        return arr[0]\n",
    "    for item in arr:\n",
    "        count += 1\n",
    "        if cache.get(item) == None:\n",
    "            cache[item] = arr.count(item)\n",
    "        else:\n",
    "            pass\n",
    "        if cache[item] % 2 != 0:\n",
    "            print('{} {}'.format(len(arr),count))\n",
    "            return item"
   ]
  },
  {
   "cell_type": "code",
   "execution_count": null,
   "metadata": {},
   "outputs": [],
   "source": [
    "print(initialSolution(test1))\n",
    "print(initialSolution(test2))\n",
    "print(initialSolution(test3))\n",
    "print(initialSolution(test4))\n",
    "\n",
    "# assert initialSolution(test1) == 7, \"Should be 7\"\n",
    "# assert initialSolution(test2) == 5, \"Should be 5\"\n",
    "# assert initialSolution(test3) == 3, \"Should be 3\""
   ]
  },
  {
   "cell_type": "code",
   "execution_count": null,
   "metadata": {},
   "outputs": [],
   "source": [
    "from collections import Counter\n",
    "def secondSolution(arr: list) -> int:\n",
    "    if len(arr) == 1:\n",
    "        return arr[0]\n",
    "    c = Counter(arr)\n",
    "    print(c.most_common(-1))"
   ]
  },
  {
   "cell_type": "code",
   "execution_count": null,
   "metadata": {},
   "outputs": [],
   "source": [
    "print(secondSolution(test1))\n",
    "print(secondSolution(test2))\n",
    "print(secondSolution(test3))"
   ]
  },
  {
   "cell_type": "code",
   "execution_count": null,
   "metadata": {},
   "outputs": [],
   "source": []
  }
 ],
 "metadata": {
  "kernelspec": {
   "display_name": "Python 3",
   "language": "python",
   "name": "python3"
  },
  "language_info": {
   "codemirror_mode": {
    "name": "ipython",
    "version": 3
   },
   "file_extension": ".py",
   "mimetype": "text/x-python",
   "name": "python",
   "nbconvert_exporter": "python",
   "pygments_lexer": "ipython3",
   "version": "3.9.0"
  }
 },
 "nbformat": 4,
 "nbformat_minor": 4
}
