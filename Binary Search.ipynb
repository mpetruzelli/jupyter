{
 "cells": [
  {
   "cell_type": "code",
   "execution_count": 22,
   "metadata": {},
   "outputs": [],
   "source": [
    "test1 = [1, 2, 3, 4, 6, 7, 23, 56, 324]\n",
    "\n",
    "test2 = [1, 2, 24, 34, 35, 56, 61, 74, 253]\n",
    "\n",
    "test3 = [1, 3, 27, 62, 92, 94, 293, 345, 596]\n",
    "\n"
   ]
  },
  {
   "cell_type": "code",
   "execution_count": 23,
   "metadata": {},
   "outputs": [],
   "source": [
    "def search(arr: list,num: int) -> int:\n",
    "    \n",
    "    left = 0\n",
    "    right = len(arr)\n",
    "\n",
    "    while( left < right ):\n",
    "        mid = int(left +(right-left)/2)\n",
    "        if arr[mid] > num:\n",
    "            right = mid\n",
    "        else:\n",
    "            left = mid + 1\n",
    "    return left - 1"
   ]
  },
  {
   "cell_type": "code",
   "execution_count": 24,
   "metadata": {},
   "outputs": [
    {
     "name": "stdout",
     "output_type": "stream",
     "text": [
      "5\n",
      "5\n"
     ]
    }
   ],
   "source": [
    "assert search(test1,4) == test1.index(4), \"Should be 3\" \n",
    "assert search(test2,253) == test2.index(253), \"Should be 9\"\n",
    "assert search(test3,94) == test3.index(94), \"Should be 6\" "
   ]
  },
  {
   "cell_type": "code",
   "execution_count": null,
   "metadata": {},
   "outputs": [],
   "source": []
  }
 ],
 "metadata": {
  "kernelspec": {
   "display_name": "Python 3",
   "language": "python",
   "name": "python3"
  },
  "language_info": {
   "codemirror_mode": {
    "name": "ipython",
    "version": 3
   },
   "file_extension": ".py",
   "mimetype": "text/x-python",
   "name": "python",
   "nbconvert_exporter": "python",
   "pygments_lexer": "ipython3",
   "version": "3.9.0"
  }
 },
 "nbformat": 4,
 "nbformat_minor": 4
}
