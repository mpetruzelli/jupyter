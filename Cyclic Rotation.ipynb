{
 "cells": [
  {
   "cell_type": "code",
   "execution_count": 13,
   "metadata": {},
   "outputs": [],
   "source": [
    "test1 = [1, 2, 3, 4, 6, 7, 23, 56, 324]\n",
    "\n",
    "test2 = [1, 2, 24, 34, 35, 56, 61, 74, 253]\n",
    "\n",
    "test3 = [1, 3, 27, 62, 92, 94, 293, 345, 596]\n"
   ]
  },
  {
   "cell_type": "code",
   "execution_count": 5,
   "metadata": {},
   "outputs": [],
   "source": [
    "def initialSolution(original: list, steps: int) -> list:\n",
    "    # dont do anything if a whole factor or 0 steps\n",
    "    if len(original) / steps == 0 or steps == 0:\n",
    "        return original\n",
    "    # only move the remainder of steps, avoids extra loops\n",
    "    if steps > len(original):\n",
    "        step = steps/len(original)\n",
    "    rotated = original[len(original)-steps:len(original)] + original[0:len(original)-steps]\n",
    "    return rotated"
   ]
  },
  {
   "cell_type": "code",
   "execution_count": 7,
   "metadata": {},
   "outputs": [
    {
     "name": "stdout",
     "output_type": "stream",
     "text": [
      "[56, 324, 1, 2, 3, 4, 6, 7, 23]\n",
      "[74, 253, 1, 2, 24, 34, 35, 56, 61]\n",
      "[345, 596, 1, 3, 27, 62, 92, 94, 293]\n"
     ]
    }
   ],
   "source": [
    "print(initialSolution(test1,2))\n",
    "print(initialSolution(test2,2))\n",
    "print(initialSolution(test3,2))"
   ]
  },
  {
   "cell_type": "code",
   "execution_count": 8,
   "metadata": {},
   "outputs": [],
   "source": [
    "def cleanSolution(original: list, steps: int) -> list:\n",
    "    if len(original) == 0:\n",
    "        return original\n",
    "    steps = steps % len(original)\n",
    "    return original[-steps:] + original[:-steps]"
   ]
  },
  {
   "cell_type": "code",
   "execution_count": 9,
   "metadata": {},
   "outputs": [
    {
     "name": "stdout",
     "output_type": "stream",
     "text": [
      "[56, 324, 1, 2, 3, 4, 6, 7, 23]\n",
      "[74, 253, 1, 2, 24, 34, 35, 56, 61]\n",
      "[345, 596, 1, 3, 27, 62, 92, 94, 293]\n"
     ]
    }
   ],
   "source": [
    "print(cleanSolution(test1,2))\n",
    "print(cleanSolution(test2,2))\n",
    "print(cleanSolution(test3,2))"
   ]
  },
  {
   "cell_type": "code",
   "execution_count": 12,
   "metadata": {},
   "outputs": [
    {
     "name": "stdout",
     "output_type": "stream",
     "text": [
      "[56, 324, 1, 2, 3, 4, 6, [2, 3, 4, 5], 7, 23]\n"
     ]
    }
   ],
   "source": [
    "print(cleanSolution(test4,2))"
   ]
  },
  {
   "cell_type": "code",
   "execution_count": 16,
   "metadata": {},
   "outputs": [],
   "source": [
    "def test(arr: list, k: int) -> list:\n",
    "    l = len(arr)\n",
    "    if l <= 1:\n",
    "        return arr\n",
    "    m = k % l\n",
    "    if m == 0:\n",
    "        return arr\n",
    "    arr = arr[-m:] + arr[:-m]\n",
    "    return arr"
   ]
  },
  {
   "cell_type": "code",
   "execution_count": 17,
   "metadata": {},
   "outputs": [
    {
     "name": "stdout",
     "output_type": "stream",
     "text": [
      "[56, 324, 1, 2, 3, 4, 6, 7, 23]\n",
      "[74, 253, 1, 2, 24, 34, 35, 56, 61]\n",
      "[345, 596, 1, 3, 27, 62, 92, 94, 293]\n"
     ]
    }
   ],
   "source": [
    "print(test(test1,2))\n",
    "print(test(test2,2))\n",
    "print(test(test3,2))"
   ]
  },
  {
   "cell_type": "code",
   "execution_count": null,
   "metadata": {},
   "outputs": [],
   "source": []
  }
 ],
 "metadata": {
  "kernelspec": {
   "display_name": "Python 3",
   "language": "python",
   "name": "python3"
  },
  "language_info": {
   "codemirror_mode": {
    "name": "ipython",
    "version": 3
   },
   "file_extension": ".py",
   "mimetype": "text/x-python",
   "name": "python",
   "nbconvert_exporter": "python",
   "pygments_lexer": "ipython3",
   "version": "3.9.0"
  }
 },
 "nbformat": 4,
 "nbformat_minor": 4
}
