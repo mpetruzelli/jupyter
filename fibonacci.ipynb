{
 "cells": [
  {
   "cell_type": "code",
   "execution_count": null,
   "metadata": {},
   "outputs": [],
   "source": [
    "cache = {}\n",
    "def fib(n: int) -> int:\n",
    "    if n < 2:\n",
    "        return n\n",
    "    if cache.get(n) != None:\n",
    "        return cache.get(n)\n",
    "    else:\n",
    "        ret = fib(n-1) + fib(n-2)\n",
    "        cache[n] = ret\n",
    "    return ret"
   ]
  },
  {
   "cell_type": "code",
   "execution_count": null,
   "metadata": {},
   "outputs": [],
   "source": [
    "cache2 = {}\n",
    "def fib2(n: int) -> int:\n",
    "    if n < 2:\n",
    "        return n\n",
    "    try:\n",
    "        \n",
    "        return cache2[n]\n",
    "    except KeyError:\n",
    "        ret = fib2(n-1) + fib2(n-2)\n",
    "        cache2[n] = ret\n",
    "    return ret"
   ]
  },
  {
   "cell_type": "code",
   "execution_count": null,
   "metadata": {},
   "outputs": [],
   "source": [
    "print(fib(1))\n",
    "print(fib(2))\n",
    "print(fib(3))\n",
    "print(fib(4))\n",
    "print(fib(5))\n",
    "print(fib(51))\n",
    "\n",
    "print(cache)"
   ]
  },
  {
   "cell_type": "code",
   "execution_count": null,
   "metadata": {},
   "outputs": [],
   "source": [
    "print(fib2(1))\n",
    "print(fib2(2))\n",
    "print(fib2(3))\n",
    "print(fib2(4))\n",
    "print(fib2(5))\n",
    "print(fib2(51))\n",
    "\n",
    "print(cache2)"
   ]
  },
  {
   "cell_type": "code",
   "execution_count": null,
   "metadata": {},
   "outputs": [],
   "source": []
  }
 ],
 "metadata": {
  "kernelspec": {
   "display_name": "Python 3",
   "language": "python",
   "name": "python3"
  },
  "language_info": {
   "codemirror_mode": {
    "name": "ipython",
    "version": 3
   },
   "file_extension": ".py",
   "mimetype": "text/x-python",
   "name": "python",
   "nbconvert_exporter": "python",
   "pygments_lexer": "ipython3",
   "version": "3.9.0"
  }
 },
 "nbformat": 4,
 "nbformat_minor": 4
}
