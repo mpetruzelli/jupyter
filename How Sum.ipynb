{
 "cells": [
  {
   "cell_type": "markdown",
   "metadata": {},
   "source": [
    "Write a function `hosSum(targetSum, numbers)` that takes in a targetSum and an array of numbers as \n",
    "arguments.\n",
    "\n",
    "The function should return an array containing any combination of elements that add up to exactly the targetSum. \n",
    "\n",
    "If there is no combination that adds up to the targetSum, return `None`.\n",
    "\n",
    "If there are multiple combinations possible, return any one. "
   ]
  },
  {
   "cell_type": "code",
   "execution_count": 47,
   "metadata": {},
   "outputs": [
    {
     "name": "stdout",
     "output_type": "stream",
     "text": [
      "{}\n",
      "{}\n",
      "{}\n",
      "{}\n",
      "{}\n",
      "{}\n",
      "{1: None}\n",
      "3\n",
      "5\n",
      "7\n",
      "[3, 2, 2]\n"
     ]
    }
   ],
   "source": [
    "def howSum(targetSum: int, numbers: list, out = None, cache = None) -> list:\n",
    "    if cache is None:\n",
    "        cache = {}\n",
    "    if out is None:\n",
    "        out = []\n",
    "    \n",
    "    \n",
    "    if cache.get(targetSum) != None:\n",
    "        print(cache)\n",
    "        return cache.get(targetSum)\n",
    "    \n",
    "    if targetSum == 0:\n",
    "        return []\n",
    "    if targetSum < 0:\n",
    "        return None\n",
    "\n",
    "    \n",
    "    for num in numbers:\n",
    "        rem = targetSum - num\n",
    "        res = howSum(rem, numbers, out, cache)\n",
    "        if res != None:\n",
    "            out.append(num)\n",
    "            cache[targetSum] = out\n",
    "            print(targetSum)\n",
    "#             print(cache)\n",
    "            return out\n",
    "    cache[targetSum] = None\n",
    "    return None\n",
    "\n",
    "# print(howSum(300,[7,14]))\n",
    "print(howSum(7,[2,3]))\n",
    "# print(howSum(7,[5,3,4,7]))"
   ]
  },
  {
   "cell_type": "code",
   "execution_count": null,
   "metadata": {},
   "outputs": [],
   "source": [
    "test_cases = [\n",
    "    [7,[2,3]],\n",
    "    [7,[5,3,4,7]],\n",
    "    [7,[2,4]],\n",
    "    [8,[2,3,5]]]\n",
    "\n",
    "expects = [[3,2,2],[4,3],None,[2,2,2,2],None]\n",
    "\n",
    "for i in range(len(test_cases)):\n",
    "    answer = howSum(test_cases[i][0], test_cases[i][1])\n",
    "    assert answer == expects[i], \"Input {}, expected {}, but got {}\".format(test_cases[i], expects[i], answer)\n",
    "    print(answer)"
   ]
  },
  {
   "cell_type": "code",
   "execution_count": null,
   "metadata": {},
   "outputs": [],
   "source": []
  }
 ],
 "metadata": {
  "kernelspec": {
   "display_name": "Python 3",
   "language": "python",
   "name": "python3"
  },
  "language_info": {
   "codemirror_mode": {
    "name": "ipython",
    "version": 3
   },
   "file_extension": ".py",
   "mimetype": "text/x-python",
   "name": "python",
   "nbconvert_exporter": "python",
   "pygments_lexer": "ipython3",
   "version": "3.9.0"
  }
 },
 "nbformat": 4,
 "nbformat_minor": 4
}
