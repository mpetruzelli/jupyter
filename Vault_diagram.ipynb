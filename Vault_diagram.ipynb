{
 "cells": [
  {
   "cell_type": "markdown",
   "metadata": {},
   "source": [
    "# Generating Vault Diagrams\n",
    "\n",
    "`graphviz` is required to output digrams.\n",
    "\n",
    "You may need to `brew install graphviz` in a console prior to using this notebook.\n",
    "\n",
    "This Notebook uses [diagrams](https://diagrams.mingrammer.com/docs/getting-started/installation), to define and create diagrams in python code.\n"
   ]
  },
  {
   "cell_type": "markdown",
   "metadata": {},
   "source": [
    "## Troubleshooting\n",
    "\n",
    "Possible tips\n",
    "\n",
    "### Interpreter Errors\n",
    "If you encounter a system interpreter or `zsh` error such as \n",
    "\n",
    "```shell\n",
    "zsh: /usr/local/bin/jupyter: bad interpreter: /usr/local/opt/python/bin/python3.7: no such file or directory\n",
    "```\n",
    "\n",
    "The brew symlinks may have been overwritten during an update to python.\n",
    "\n",
    "These instructions may help:\n",
    "\n",
    "```shell\n",
    "rm '/usr/local/bin/jupyter'\n",
    "brew install jupyter\n",
    "brew link --overwrite jupyter\n",
    "brew link --overwrite --dry-run jupyter\n",
    "brew unlink jupyter && brew link jupyter\n",
    "```\n",
    "\n"
   ]
  },
  {
   "cell_type": "code",
   "execution_count": null,
   "metadata": {},
   "outputs": [],
   "source": [
    "import sys\n",
    "!{sys.executable} -m pip install diagrams"
   ]
  },
  {
   "cell_type": "code",
   "execution_count": null,
   "metadata": {},
   "outputs": [],
   "source": [
    "from diagrams import Cluster, Diagram, Edge\n",
    "from diagrams.aws.compute import ECS, EC2\n",
    "from diagrams.aws.network import Route53, ELB, ClientVpn, NATGateway, PrivateSubnet, PublicSubnet, VPC"
   ]
  },
  {
   "cell_type": "code",
   "execution_count": null,
   "metadata": {},
   "outputs": [],
   "source": [
    "with Diagram(\"VPN Networking Overview\", show=False) as vpn_diag:\n",
    "    vault_dns = Route53(\"DNS\\nhttps://production-vault.styleseat.net\")\n",
    "    tech_onboarding_dns = Route53(\"DNS\\nhttps://production-tech-onboarding.styleseat.net\")   \n",
    "  \n",
    "    with Cluster(\"VPC\"):\n",
    "        \n",
    "        client_vpn = ClientVpn(\"SSO VPN\")\n",
    "        \n",
    "        with Cluster(\"Private Subnets\\nus-east-1b-ss-app\\nus-east-1c-ss-app\"):\n",
    "            with Cluster(\"Security Groups\\nsg-bb212fc9 - us-east-1.ecs.prod\\nus-east-1-production-client-vpn-access\"):\n",
    "                with Cluster(\"AutoScalingGroup\"):\n",
    "                    ec2 = [\n",
    "                        EC2(\"production-instance\")   \n",
    "                    ]\n",
    "        \n",
    "        with Cluster(\"Vault\\nECS Tasks\"):\n",
    "            vault_ecs = [\n",
    "                ECS(\"vault\"),\n",
    "                ECS(\"vault-init\")\n",
    "            ]\n",
    "            \n",
    "        with Cluster(\"Tech Onboarding\\nECS Tasks\"):\n",
    "            tech_onboarding_ecs = ECS(\"tech-onboarding\")\n",
    "            \n",
    "        with Cluster(\"Security Group\\nweb-https-lb\"):\n",
    "            public_alb = ELB(\"production-external-alb\")\n",
    "            private_alb = ELB(\"production-internal-alb\")\n",
    "            \n",
    "\n",
    "\n",
    "    # Vault DNS/Networking Flow\n",
    "    vault_dns >> Edge(xlabel=\"Port\\n443\") >> \\\n",
    "        client_vpn >> Edge(xlabel=\"Port\\n443\") >> \\\n",
    "        private_alb >> Edge(xlabel=\"Port\\n8200\") >> \\\n",
    "        ec2 >> Edge(xlabel=\"Port\\n8200\") >> \\\n",
    "        vault_ecs[0]\n",
    "    \n",
    "    # Tech Onboarding DNS/Networking Flow\n",
    "    tech_onboarding_dns >> Edge(xlabel=\"Port\\n443\") >> \\\n",
    "        public_alb >> Edge(xlabel=\"Port\\n5556\") >> \\\n",
    "        ec2 >> Edge(xlabel=\"Port\\n5556\") >> \\\n",
    "        tech_onboarding_ecs\n",
    "    \n",
    "    vault_ecs[0] - Edge(style=\"dashed\") - vault_ecs[1]\n",
    "    \n",
    "vpn_diag"
   ]
  },
  {
   "cell_type": "code",
   "execution_count": null,
   "metadata": {},
   "outputs": [],
   "source": []
  },
  {
   "cell_type": "code",
   "execution_count": null,
   "metadata": {},
   "outputs": [],
   "source": []
  }
 ],
 "metadata": {
  "kernelspec": {
   "display_name": "Python 3",
   "language": "python",
   "name": "python3"
  },
  "language_info": {
   "codemirror_mode": {
    "name": "ipython",
    "version": 3
   },
   "file_extension": ".py",
   "mimetype": "text/x-python",
   "name": "python",
   "nbconvert_exporter": "python",
   "pygments_lexer": "ipython3",
   "version": "3.9.0"
  }
 },
 "nbformat": 4,
 "nbformat_minor": 4
}
