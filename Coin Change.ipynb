{
 "cells": [
  {
   "cell_type": "code",
   "execution_count": 5,
   "metadata": {},
   "outputs": [
    {
     "name": "stdout",
     "output_type": "stream",
     "text": [
      "3\n",
      "2\n"
     ]
    }
   ],
   "source": [
    "INF = 100000\n",
    "\n",
    "#k is number of denominations of the coin or length of d\n",
    "def coin_change_modified(d, n, k):\n",
    "  M = [0]*(n+1)\n",
    "  S = [0]*(n+1)\n",
    "\n",
    "  for j in range(1, n+1):\n",
    "    minimum = INF\n",
    "    coin = 0\n",
    "\n",
    "    for i in range(1, k+1):\n",
    "      if(j >= d[i]):\n",
    "        minimum = min(minimum, 1+M[j-d[i]])\n",
    "        coin = i\n",
    "    M[j] = minimum\n",
    "    S[j] = coin\n",
    "\n",
    "  l = n\n",
    "  while(l>0):\n",
    "    print(d[S[l]])\n",
    "    l = l-d[S[l]]\n",
    "  return M[n]\n",
    "\n",
    "if __name__ == '__main__':\n",
    "  # array starting from 1, element at index 0 is fake\n",
    "  d = [0, 1, 2, 3]\n",
    "  coin_change_modified(d, 5, 3) #to make 5. Number of denominations = 3"
   ]
  },
  {
   "cell_type": "code",
   "execution_count": 1,
   "metadata": {},
   "outputs": [
    {
     "name": "stdout",
     "output_type": "stream",
     "text": [
      "Total number of ways to get desired change is 4\n"
     ]
    }
   ],
   "source": [
    "# Function to find the total number of distinct ways to get\n",
    "# change of N from unlimited supply of coins in set S\n",
    "def count(S, N):\n",
    " \n",
    "    T = [0] * (N + 1)\n",
    "    T[0] = 1\n",
    " \n",
    "    for i in range(len(S)):\n",
    "        j = S[i]\n",
    "        while j <= N:\n",
    "            T[j] += T[j - S[i]]\n",
    "            j = j + 1\n",
    " \n",
    "    return T[N]\n",
    " \n",
    "S = 1, 2, 3\n",
    "N = 4\n",
    "print(\"Total number of ways to get desired change is\", count(S, N))"
   ]
  },
  {
   "cell_type": "markdown",
   "metadata": {},
   "source": [
    "# BackPack Coin Change\n",
    "\n",
    "You are given coins of different denominations and a total amount of money amount.\n",
    "\n",
    "Write a function to compute the fewest number of coins that you need to make up that amount.\n",
    "\n",
    "If that amount of money cannot be made up by any combination of the coins, return -1.\n",
    "\n",
    "You may assume that you have an infinite number of each kind of coin."
   ]
  },
  {
   "cell_type": "code",
   "execution_count": 6,
   "metadata": {},
   "outputs": [],
   "source": [
    "def coinChange(coins, amount):\n",
    "    dp = [0] + [float('inf')] * amount\n",
    "\n",
    "    for coin in coins:\n",
    "        for i in range(coin, amount+1):\n",
    "            dp[i] = min(dp[i], dp[i-coin]+1)\n",
    "\n",
    "    return dp[-1] if dp[-1] != float('inf') else -1"
   ]
  },
  {
   "cell_type": "code",
   "execution_count": 7,
   "metadata": {},
   "outputs": [
    {
     "name": "stdout",
     "output_type": "stream",
     "text": [
      "3\n"
     ]
    }
   ],
   "source": [
    "test_case = [\n",
    "    [11,[1,2,5]]\n",
    "]\n",
    "expects = 3\n",
    "\n",
    "out = coinChange(test_case[0][1], test_case[0][0])\n",
    "assert out == expects, \"Expected {}, got {}\".format(expects[i], out)\n",
    "print(out)"
   ]
  },
  {
   "cell_type": "markdown",
   "metadata": {},
   "source": [
    "# Breadth First Search Coin Change"
   ]
  },
  {
   "cell_type": "code",
   "execution_count": 13,
   "metadata": {},
   "outputs": [],
   "source": [
    "import collections\n",
    "def coinChangeBFS(coins: list[int], amount: int) -> int:\n",
    "        \n",
    "        seen = set()\n",
    "        level = -1\n",
    "        Q = collections.deque([amount])\n",
    "        \n",
    "        while Q:\n",
    "            \n",
    "            level += 1\n",
    "            for _ in range(len(Q)):\n",
    "                val = Q.popleft()\n",
    "                if not val:\n",
    "                    return level\n",
    "                \n",
    "                if val > 0:\n",
    "                    for c in coins:\n",
    "                        if val-c not in seen:\n",
    "                            Q.append(val-c)\n",
    "                            seen.add(val-c)\n",
    "                        \n",
    "        return -1"
   ]
  },
  {
   "cell_type": "code",
   "execution_count": 14,
   "metadata": {},
   "outputs": [
    {
     "name": "stdout",
     "output_type": "stream",
     "text": [
      "3\n"
     ]
    }
   ],
   "source": [
    "test_case = [\n",
    "    [11,[1,2,5]]\n",
    "]\n",
    "expects = 3\n",
    "\n",
    "out = coinChangeBFS(test_case[0][1], test_case[0][0])\n",
    "assert out == expects, \"Expected {}, got {}\".format(expects[i], out)\n",
    "print(out)"
   ]
  },
  {
   "cell_type": "code",
   "execution_count": null,
   "metadata": {},
   "outputs": [],
   "source": []
  }
 ],
 "metadata": {
  "kernelspec": {
   "display_name": "Python 3",
   "language": "python",
   "name": "python3"
  },
  "language_info": {
   "codemirror_mode": {
    "name": "ipython",
    "version": 3
   },
   "file_extension": ".py",
   "mimetype": "text/x-python",
   "name": "python",
   "nbconvert_exporter": "python",
   "pygments_lexer": "ipython3",
   "version": "3.9.0"
  }
 },
 "nbformat": 4,
 "nbformat_minor": 4
}
