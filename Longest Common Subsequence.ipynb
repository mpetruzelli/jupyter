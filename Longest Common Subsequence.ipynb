{
 "cells": [
  {
   "cell_type": "markdown",
   "metadata": {},
   "source": [
    "# Longest Common Subsequence (non-contiguous)\n",
    "\n",
    "Given two strings `word1`, `word2`, return the length of the longest common subsequence."
   ]
  },
  {
   "cell_type": "code",
   "execution_count": 19,
   "metadata": {},
   "outputs": [],
   "source": [
    "def longestCommonSubsequence(text1: str, text2: str) -> int:\n",
    "        m,n=len(text1),len(text2)\n",
    "        dp=[0]*n\n",
    "        res=0\n",
    "        for i in range(m):\n",
    "            prev=0\n",
    "            for j in range(n):\n",
    "                last=dp[j]\n",
    "                if text1[i]==text2[j]:\n",
    "                    dp[j]=prev+1\n",
    "                prev=max(prev,last)\n",
    "            res=max(res,max(dp))\n",
    "        print(dp)\n",
    "        return res"
   ]
  },
  {
   "cell_type": "code",
   "execution_count": 20,
   "metadata": {},
   "outputs": [
    {
     "name": "stdout",
     "output_type": "stream",
     "text": [
      "[1, 0, 2, 0, 3, 0]\n",
      "3\n",
      "[1, 2, 0, 2, 0, 3, 0, 4]\n",
      "4\n"
     ]
    }
   ],
   "source": [
    "test_cases = [\n",
    "    [\"ABCDGH\", \"AEDFHR\"],\n",
    "    [\"AGGTAB\", \"GTXTXAYB\"]\n",
    "]\n",
    "\n",
    "expects = [3,4]\n",
    "\n",
    "for i in range(len(test_cases)):\n",
    "    out = longestCommonSubsequence(test_cases[i][0],test_cases[i][1])\n",
    "    assert out == expects[i], \"Expected {}, GOT {}\".format(expects[i],out)\n",
    "    print(out)"
   ]
  },
  {
   "cell_type": "code",
   "execution_count": 15,
   "metadata": {},
   "outputs": [],
   "source": [
    "def longestCommonSubsequenceDP(A, B):\n",
    "        \"\"\"\n",
    "        :type text1: str\n",
    "        :type text2: str\n",
    "        :rtype: int\n",
    "        \"\"\"\n",
    "        # Dynamic Programming w/ O(n) space complexity\n",
    "        dp = [0] * len(B) \n",
    "    \n",
    "        # Dynamic Programming w/ O(nm) time complexity\n",
    "        for a in A:\n",
    "            mx = 0\n",
    "            prev = dp[0]\n",
    "            dp[0] = max(prev, a == B[0])\n",
    "            for i in range(1,len(B)):\n",
    "                mx = max(mx,prev)\n",
    "                prev = dp[i]\n",
    "                dp[i] = max(prev, (a == B[i]) + mx)\n",
    "        \n",
    "        return int(max(dp))"
   ]
  },
  {
   "cell_type": "code",
   "execution_count": 16,
   "metadata": {},
   "outputs": [
    {
     "name": "stdout",
     "output_type": "stream",
     "text": [
      "3\n",
      "4\n"
     ]
    }
   ],
   "source": [
    "test_cases = [\n",
    "    [\"ABCDGH\", \"AEDFHR\"],\n",
    "    [\"AGGTAB\", \"GTXTXAYB\"]\n",
    "]\n",
    "\n",
    "expects = [3,4]\n",
    "\n",
    "for i in range(len(test_cases)):\n",
    "    out = longestCommonSubsequenceDP(test_cases[i][0],test_cases[i][1])\n",
    "    assert out == expects[i], \"Expected {}, GOT {}\".format(expects[i],out)\n",
    "    print(out)"
   ]
  },
  {
   "cell_type": "code",
   "execution_count": null,
   "metadata": {},
   "outputs": [],
   "source": []
  }
 ],
 "metadata": {
  "kernelspec": {
   "display_name": "Python 3",
   "language": "python",
   "name": "python3"
  },
  "language_info": {
   "codemirror_mode": {
    "name": "ipython",
    "version": 3
   },
   "file_extension": ".py",
   "mimetype": "text/x-python",
   "name": "python",
   "nbconvert_exporter": "python",
   "pygments_lexer": "ipython3",
   "version": "3.9.0"
  }
 },
 "nbformat": 4,
 "nbformat_minor": 4
}
